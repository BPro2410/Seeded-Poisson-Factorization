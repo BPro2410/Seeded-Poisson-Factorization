{
 "cells": [
  {
   "cell_type": "markdown",
   "metadata": {},
   "source": [
    "# Seeded Poisson Factorization (SPF) example notebook\n",
    "\n",
    "This notebook is a minimal example of the SPF model."
   ]
  },
  {
   "cell_type": "code",
   "execution_count": 1,
   "metadata": {},
   "outputs": [
    {
     "data": {
      "text/html": [
       "<div>\n",
       "<style scoped>\n",
       "    .dataframe tbody tr th:only-of-type {\n",
       "        vertical-align: middle;\n",
       "    }\n",
       "\n",
       "    .dataframe tbody tr th {\n",
       "        vertical-align: top;\n",
       "    }\n",
       "\n",
       "    .dataframe thead th {\n",
       "        text-align: right;\n",
       "    }\n",
       "</style>\n",
       "<table border=\"1\" class=\"dataframe\">\n",
       "  <thead>\n",
       "    <tr style=\"text-align: right;\">\n",
       "      <th></th>\n",
       "      <th>Unnamed: 0</th>\n",
       "      <th>productId</th>\n",
       "      <th>Title</th>\n",
       "      <th>userId</th>\n",
       "      <th>Helpfulness</th>\n",
       "      <th>Score</th>\n",
       "      <th>Time</th>\n",
       "      <th>Text</th>\n",
       "      <th>Cat1</th>\n",
       "      <th>Cat2</th>\n",
       "      <th>Cat3</th>\n",
       "      <th>tokens</th>\n",
       "    </tr>\n",
       "  </thead>\n",
       "  <tbody>\n",
       "    <tr>\n",
       "      <th>0</th>\n",
       "      <td>15123</td>\n",
       "      <td>B00032G1S0</td>\n",
       "      <td>Tuscan Whole Milk, 1 Gallon, 128 fl oz</td>\n",
       "      <td>A3B4TGHT06VIV9</td>\n",
       "      <td>19/20</td>\n",
       "      <td>5.0</td>\n",
       "      <td>1220659200</td>\n",
       "      <td>It is a Tuscan Milkman,And he stoppeth only me...</td>\n",
       "      <td>grocery gourmet food</td>\n",
       "      <td>dairy eggs</td>\n",
       "      <td>milk</td>\n",
       "      <td>106</td>\n",
       "    </tr>\n",
       "    <tr>\n",
       "      <th>1</th>\n",
       "      <td>29859</td>\n",
       "      <td>B000O1LEK0</td>\n",
       "      <td>Kid Galaxy Mega X Morphibian Komodo dragon</td>\n",
       "      <td>A29BL1ME0A4S0U</td>\n",
       "      <td>1/1</td>\n",
       "      <td>4.0</td>\n",
       "      <td>1306800000</td>\n",
       "      <td>This is a fun car. The only problem is the sho...</td>\n",
       "      <td>toys games</td>\n",
       "      <td>electronics for kids</td>\n",
       "      <td>unknown</td>\n",
       "      <td>52</td>\n",
       "    </tr>\n",
       "    <tr>\n",
       "      <th>2</th>\n",
       "      <td>25129</td>\n",
       "      <td>B000G7WU50</td>\n",
       "      <td>Boon Flo Water Deflector and Protective Faucet...</td>\n",
       "      <td>A1M2CJJ859SZV7</td>\n",
       "      <td>1/1</td>\n",
       "      <td>2.0</td>\n",
       "      <td>1285372800</td>\n",
       "      <td>This does indeed deflect the water for a softe...</td>\n",
       "      <td>baby products</td>\n",
       "      <td>safety</td>\n",
       "      <td>bathroom safety</td>\n",
       "      <td>284</td>\n",
       "    </tr>\n",
       "    <tr>\n",
       "      <th>3</th>\n",
       "      <td>20101</td>\n",
       "      <td>B000K50KVO</td>\n",
       "      <td>Playtex Baby Einstein 6oz. Spill-Proof Trainer...</td>\n",
       "      <td>A1YU39HHJTF0F0</td>\n",
       "      <td>0/0</td>\n",
       "      <td>1.0</td>\n",
       "      <td>1254700800</td>\n",
       "      <td>because my little girl loves to chew on her si...</td>\n",
       "      <td>baby products</td>\n",
       "      <td>feeding</td>\n",
       "      <td>solid feeding</td>\n",
       "      <td>46</td>\n",
       "    </tr>\n",
       "    <tr>\n",
       "      <th>4</th>\n",
       "      <td>18841</td>\n",
       "      <td>B0001E8BJ2</td>\n",
       "      <td>Pre~Seed Intimate Moisturizer with 2 Early Pre...</td>\n",
       "      <td>A17YQZH6BBY9O4</td>\n",
       "      <td>2/2</td>\n",
       "      <td>5.0</td>\n",
       "      <td>1244851200</td>\n",
       "      <td>We got pregnant after using this product only ...</td>\n",
       "      <td>health personal care</td>\n",
       "      <td>health care</td>\n",
       "      <td>family planning contraceptives</td>\n",
       "      <td>49</td>\n",
       "    </tr>\n",
       "  </tbody>\n",
       "</table>\n",
       "</div>"
      ],
      "text/plain": [
       "   Unnamed: 0   productId                                              Title  \\\n",
       "0       15123  B00032G1S0             Tuscan Whole Milk, 1 Gallon, 128 fl oz   \n",
       "1       29859  B000O1LEK0         Kid Galaxy Mega X Morphibian Komodo dragon   \n",
       "2       25129  B000G7WU50  Boon Flo Water Deflector and Protective Faucet...   \n",
       "3       20101  B000K50KVO  Playtex Baby Einstein 6oz. Spill-Proof Trainer...   \n",
       "4       18841  B0001E8BJ2  Pre~Seed Intimate Moisturizer with 2 Early Pre...   \n",
       "\n",
       "           userId Helpfulness  Score        Time  \\\n",
       "0  A3B4TGHT06VIV9       19/20    5.0  1220659200   \n",
       "1  A29BL1ME0A4S0U         1/1    4.0  1306800000   \n",
       "2  A1M2CJJ859SZV7         1/1    2.0  1285372800   \n",
       "3  A1YU39HHJTF0F0         0/0    1.0  1254700800   \n",
       "4  A17YQZH6BBY9O4         2/2    5.0  1244851200   \n",
       "\n",
       "                                                Text                  Cat1  \\\n",
       "0  It is a Tuscan Milkman,And he stoppeth only me...  grocery gourmet food   \n",
       "1  This is a fun car. The only problem is the sho...            toys games   \n",
       "2  This does indeed deflect the water for a softe...         baby products   \n",
       "3  because my little girl loves to chew on her si...         baby products   \n",
       "4  We got pregnant after using this product only ...  health personal care   \n",
       "\n",
       "                   Cat2                            Cat3  tokens  \n",
       "0            dairy eggs                            milk     106  \n",
       "1  electronics for kids                         unknown      52  \n",
       "2                safety                 bathroom safety     284  \n",
       "3               feeding                   solid feeding      46  \n",
       "4           health care  family planning contraceptives      49  "
      ]
     },
     "execution_count": 1,
     "metadata": {},
     "output_type": "execute_result"
    }
   ],
   "source": [
    "# Imports\n",
    "from SPF.SPF_model import SPF\n",
    "import numpy as np\n",
    "import pandas as pd\n",
    "\n",
    "df1 = pd.read_csv(\"./data/10k_amazon.csv\")\n",
    "df1.head()"
   ]
  },
  {
   "cell_type": "code",
   "execution_count": 2,
   "metadata": {},
   "outputs": [],
   "source": [
    "# Define keywords\n",
    "pets = [\"dog\", \"cat\", \"cats\", \"dogs\", \"box\", \"food\", \"toy\", \"pet\"]\n",
    "toys = [\"toy\", \"game\", \"play\", \"fun\", \"son\", \"daughter\", \"kids\", \"playing\", \"christmas\", \"toys\", \"child\", \"gift\"]\n",
    "beauty = [\"skin\", \"color\", \"scent\", \"smell\", \"dry\", \"face\", \"look\", \"fragrance\", \"products\", \"dry\", \"perfume\", \"shampoo\"]\n",
    "baby = [\"baby\", \"seat\", \"son\", \"daughter\", \"newborn\", \"months\", \"diaper\", \"diapers\", \"car\", \"stroller\", \"pump\", \"bag\", \"child\"]\n",
    "health = [\"try\", \"long\", \"water\", \"feel\", \"shave\", \"razor\", \"shaver\", \"pain\", \"heart\", \"tooth\", \"balm\", \"pads\", \"taste\", \"drink\",\"medical\", \"blade\", \"oil\", \"plastic\", \"shaker\", \"soap\"]\n",
    "grocery = [\"tea\", \"taste\", \"flavor\", \"coffee\", \"chocolate\", \"sugar\", \"milk\", \"delicious\", \"water\", \"diet\"]\n",
    "\n",
    "keywords = {\"pet supplies\": pets, \"toys games\": toys, \"beauty\": beauty, \"baby products\": baby, \"health personal care\": health, \"grocery gourmet food\": grocery}"
   ]
  },
  {
   "cell_type": "markdown",
   "metadata": {},
   "source": [
    "## SPF model"
   ]
  },
  {
   "cell_type": "code",
   "execution_count": 3,
   "metadata": {},
   "outputs": [
    {
     "data": {
      "text/plain": [
       "Seeded Poisson Factorization (SPF) model initialized with 6 keyword topics and 0 residual topics."
      ]
     },
     "execution_count": 3,
     "metadata": {},
     "output_type": "execute_result"
    }
   ],
   "source": [
    "# Initialize the model\n",
    "spf1 = SPF(keywords = keywords, residual_topics=0)\n",
    "spf1"
   ]
  },
  {
   "cell_type": "code",
   "execution_count": 4,
   "metadata": {},
   "outputs": [],
   "source": [
    "# Read documents and create the data required in the backend\n",
    "spf1.read_docs(df1[\"Text\"])"
   ]
  },
  {
   "cell_type": "code",
   "execution_count": 5,
   "metadata": {},
   "outputs": [
    {
     "name": "stdout",
     "output_type": "stream",
     "text": [
      "WARNING:tensorflow:From c:\\Users\\Bernd\\anaconda3\\envs\\TBIP_colab_8\\lib\\site-packages\\tensorflow_probability\\python\\distributions\\distribution.py:345: calling Poisson.__init__ (from tensorflow_probability.python.distributions.poisson) with interpolate_nondiscrete is deprecated and will be removed after 2021-02-01.\n",
      "Instructions for updating:\n",
      "The `interpolate_nondiscrete` flag is deprecated; instead use `force_probs_to_zero_outside_support` (with the opposite sense).\n",
      "|****************************************************************************************************| 100.00% [0.1380/s per epoch]\r"
     ]
    }
   ],
   "source": [
    "# Train the model\n",
    "spf1.model_train(lr = 0.1, epochs = 150, tensorboard = False)"
   ]
  },
  {
   "cell_type": "code",
   "execution_count": 6,
   "metadata": {},
   "outputs": [
    {
     "data": {
      "image/png": "[encoded data removed]",
      "text/plain": [
       "<Figure size 1200x700 with 1 Axes>"
      ]
     },
     "metadata": {},
     "output_type": "display_data"
    }
   ],
   "source": [
    "# See model results\n",
    "spf1.plot_model_loss(neg_elbo = True)"
   ]
  },
  {
   "cell_type": "code",
   "execution_count": 7,
   "metadata": {},
   "outputs": [
    {
     "data": {
      "text/html": [
       "<div>\n",
       "<style scoped>\n",
       "    .dataframe tbody tr th:only-of-type {\n",
       "        vertical-align: middle;\n",
       "    }\n",
       "\n",
       "    .dataframe tbody tr th {\n",
       "        vertical-align: top;\n",
       "    }\n",
       "\n",
       "    .dataframe thead th {\n",
       "        text-align: right;\n",
       "    }\n",
       "</style>\n",
       "<table border=\"1\" class=\"dataframe\">\n",
       "  <thead>\n",
       "    <tr style=\"text-align: right;\">\n",
       "      <th></th>\n",
       "      <th>pet supplies</th>\n",
       "      <th>toys games</th>\n",
       "      <th>beauty</th>\n",
       "      <th>baby products</th>\n",
       "      <th>health personal care</th>\n",
       "      <th>grocery gourmet food</th>\n",
       "    </tr>\n",
       "  </thead>\n",
       "  <tbody>\n",
       "    <tr>\n",
       "      <th>00</th>\n",
       "      <td>1.555355</td>\n",
       "      <td>0.030551</td>\n",
       "      <td>0.028211</td>\n",
       "      <td>0.017095</td>\n",
       "      <td>0.122050</td>\n",
       "      <td>0.262581</td>\n",
       "    </tr>\n",
       "    <tr>\n",
       "      <th>000</th>\n",
       "      <td>0.134427</td>\n",
       "      <td>0.045114</td>\n",
       "      <td>0.014117</td>\n",
       "      <td>0.065230</td>\n",
       "      <td>0.052856</td>\n",
       "      <td>0.181201</td>\n",
       "    </tr>\n",
       "    <tr>\n",
       "      <th>02</th>\n",
       "      <td>0.009995</td>\n",
       "      <td>0.009615</td>\n",
       "      <td>0.006405</td>\n",
       "      <td>0.059267</td>\n",
       "      <td>0.010808</td>\n",
       "      <td>0.010273</td>\n",
       "    </tr>\n",
       "    <tr>\n",
       "      <th>03</th>\n",
       "      <td>0.055968</td>\n",
       "      <td>0.008152</td>\n",
       "      <td>0.018273</td>\n",
       "      <td>0.011179</td>\n",
       "      <td>0.014627</td>\n",
       "      <td>0.021350</td>\n",
       "    </tr>\n",
       "    <tr>\n",
       "      <th>04</th>\n",
       "      <td>0.018588</td>\n",
       "      <td>0.008089</td>\n",
       "      <td>0.027491</td>\n",
       "      <td>0.047931</td>\n",
       "      <td>0.019409</td>\n",
       "      <td>0.013931</td>\n",
       "    </tr>\n",
       "    <tr>\n",
       "      <th>...</th>\n",
       "      <td>...</td>\n",
       "      <td>...</td>\n",
       "      <td>...</td>\n",
       "      <td>...</td>\n",
       "      <td>...</td>\n",
       "      <td>...</td>\n",
       "    </tr>\n",
       "    <tr>\n",
       "      <th>zoo</th>\n",
       "      <td>0.013356</td>\n",
       "      <td>0.015119</td>\n",
       "      <td>0.007078</td>\n",
       "      <td>0.078367</td>\n",
       "      <td>0.011284</td>\n",
       "      <td>0.009590</td>\n",
       "    </tr>\n",
       "    <tr>\n",
       "      <th>zoom</th>\n",
       "      <td>0.012518</td>\n",
       "      <td>0.061374</td>\n",
       "      <td>0.011115</td>\n",
       "      <td>0.013782</td>\n",
       "      <td>0.008812</td>\n",
       "      <td>0.010105</td>\n",
       "    </tr>\n",
       "    <tr>\n",
       "      <th>zords</th>\n",
       "      <td>0.009773</td>\n",
       "      <td>0.043652</td>\n",
       "      <td>0.010369</td>\n",
       "      <td>0.008746</td>\n",
       "      <td>0.007993</td>\n",
       "      <td>0.010710</td>\n",
       "    </tr>\n",
       "    <tr>\n",
       "      <th>zucchini</th>\n",
       "      <td>0.008882</td>\n",
       "      <td>0.006728</td>\n",
       "      <td>0.007080</td>\n",
       "      <td>0.008208</td>\n",
       "      <td>0.007228</td>\n",
       "      <td>0.049973</td>\n",
       "    </tr>\n",
       "    <tr>\n",
       "      <th>zum</th>\n",
       "      <td>0.009388</td>\n",
       "      <td>0.009786</td>\n",
       "      <td>0.232785</td>\n",
       "      <td>0.008302</td>\n",
       "      <td>0.008570</td>\n",
       "      <td>0.021951</td>\n",
       "    </tr>\n",
       "  </tbody>\n",
       "</table>\n",
       "<p>13636 rows × 6 columns</p>\n",
       "</div>"
      ],
      "text/plain": [
       "          pet supplies  toys games    beauty  baby products  \\\n",
       "00            1.555355    0.030551  0.028211       0.017095   \n",
       "000           0.134427    0.045114  0.014117       0.065230   \n",
       "02            0.009995    0.009615  0.006405       0.059267   \n",
       "03            0.055968    0.008152  0.018273       0.011179   \n",
       "04            0.018588    0.008089  0.027491       0.047931   \n",
       "...                ...         ...       ...            ...   \n",
       "zoo           0.013356    0.015119  0.007078       0.078367   \n",
       "zoom          0.012518    0.061374  0.011115       0.013782   \n",
       "zords         0.009773    0.043652  0.010369       0.008746   \n",
       "zucchini      0.008882    0.006728  0.007080       0.008208   \n",
       "zum           0.009388    0.009786  0.232785       0.008302   \n",
       "\n",
       "          health personal care  grocery gourmet food  \n",
       "00                    0.122050              0.262581  \n",
       "000                   0.052856              0.181201  \n",
       "02                    0.010808              0.010273  \n",
       "03                    0.014627              0.021350  \n",
       "04                    0.019409              0.013931  \n",
       "...                        ...                   ...  \n",
       "zoo                   0.011284              0.009590  \n",
       "zoom                  0.008812              0.010105  \n",
       "zords                 0.007993              0.010710  \n",
       "zucchini              0.007228              0.049973  \n",
       "zum                   0.008570              0.021951  \n",
       "\n",
       "[13636 rows x 6 columns]"
      ]
     },
     "execution_count": 7,
     "metadata": {},
     "output_type": "execute_result"
    }
   ],
   "source": [
    "betas = spf1.calculate_topic_word_distributions()\n",
    "betas"
   ]
  },
  {
   "cell_type": "code",
   "execution_count": 8,
   "metadata": {},
   "outputs": [
    {
     "data": {
      "text/plain": [
       "array(['pet supplies: dog, product, box, amazon, just, cat, like, time, got, cats, price, dogs, great, bought, buy, don, food, did, small, litter, purchased, item, good, order, ordered, didn, little, money, work, plastic, shipping, pet, company, thing, use, size, works, thought, store, new, does, large, days, day, really, quality, received, away, came, sure',\n",
       "       'toys games: toy, old, game, play, year, fun, like, loves, great, little, son, just, daughter, kids, really, set, time, got, toys, bought, christmas, think, playing, love, pieces, make, child, don, good, children, gift, doll, durable, music, buy, thing, played, cards, cute, birthday, recommend, easy, games, loved, cool, different, figure, things, big, come',\n",
       "       'beauty: hair, product, like, skin, use, used, great, just, using, smell, dry, love, really, color, ve, does, time, products, good, little, long, face, don, doesn, years, scent, bottle, tried, works, day, look, soft, recommend, smells, soap, nice, feel, better, make, stuff, try, bought, way, light, clean, didn, shampoo, bit, buy, best',\n",
       "       'baby products: baby, use, great, just, son, seat, easy, old, like, love, little, months, time, daughter, fit, bought, don, car, diaper, used, pump, bed, stroller, sleep, really, bottles, bag, recommend, using, room, night, bottle, good, child, way, need, diapers, comfortable, big, small, easily, chair, doesn, size, swing, does, gate, think, able, got',\n",
       "       'health personal care: product, use, time, just, years, used, ve, work, using, like, good, great, better, day, did, really, works, does, don, bought, try, pain, brush, long, unit, days, shave, tried, razor, months, didn, got, know, water, taking, feel, worked, help, thing, recommend, started, way, new, times, battery, shaver, need, weeks, batteries, ago',\n",
       "       'grocery gourmet food: like, good, taste, tea, great, just, flavor, product, ve, best, love, don, food, tried, little, better, eat, really, protein, bar, sugar, milk, bars, make, chocolate, water, buy, mix, amazon, drink, free, sweet, hot, use, add, price, stuff, store, try, tastes, time, sauce, cup, day, bag, nice, way, far, favorite, delicious'],\n",
       "      dtype='<U357')"
      ]
     },
     "execution_count": 8,
     "metadata": {},
     "output_type": "execute_result"
    }
   ],
   "source": [
    "# Print the words with the highest mean intensity per topic\n",
    "spf1.print_topics(num_words = 50)"
   ]
  },
  {
   "cell_type": "code",
   "execution_count": 9,
   "metadata": {},
   "outputs": [
    {
     "name": "stdout",
     "output_type": "stream",
     "text": [
      "('                      precision    recall  f1-score   support\\n'\n",
      " '\\n'\n",
      " '       baby products       0.68      0.78      0.73      1501\\n'\n",
      " '              beauty       0.70      0.78      0.74      1374\\n'\n",
      " 'grocery gourmet food       0.63      0.89      0.73       855\\n'\n",
      " 'health personal care       0.78      0.48      0.60      2314\\n'\n",
      " '        pet supplies       0.55      0.75      0.64      1253\\n'\n",
      " '          toys games       0.91      0.81      0.86      2703\\n'\n",
      " '\\n'\n",
      " '            accuracy                           0.72     10000\\n'\n",
      " '           macro avg       0.71      0.75      0.71     10000\\n'\n",
      " '        weighted avg       0.75      0.72      0.72     10000\\n')\n"
     ]
    }
   ],
   "source": [
    "# Calculate model accuracy\n",
    "categories, E_theta = spf1.calculate_topics()\n",
    "df1[\"SPF_estimates\"] = categories\n",
    "df1[\"Accuracy\"] = df1.Cat1 == df1.SPF_estimates\n",
    "\n",
    "from sklearn.metrics import classification_report, confusion_matrix\n",
    "import pprint\n",
    "pprint.pprint(classification_report(df1.Cat1, df1.SPF_estimates))\n"
   ]
  },
  {
   "cell_type": "code",
   "execution_count": null,
   "metadata": {},
   "outputs": [],
   "source": []
  }
 ],
 "metadata": {
  "kernelspec": {
   "display_name": "MP_Interpreter_conda",
   "language": "python",
   "name": "python3"
  },
  "language_info": {
   "codemirror_mode": {
    "name": "ipython",
    "version": 3
   },
   "file_extension": ".py",
   "mimetype": "text/x-python",
   "name": "python",
   "nbconvert_exporter": "python",
   "pygments_lexer": "ipython3",
   "version": "3.9.16"
  }
 },
 "nbformat": 4,
 "nbformat_minor": 2
}
