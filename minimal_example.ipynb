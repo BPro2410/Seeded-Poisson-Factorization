{
 "cells": [
  {
   "cell_type": "markdown",
   "metadata": {},
   "source": [
    "# Seeded Poisson Factorization (SPF) example notebook\n",
    "\n",
    "This notebook shows a minimal example of the SPF topic model."
   ]
  },
  {
   "cell_type": "markdown",
   "metadata": {},
   "source": [
    "## Preliminaries"
   ]
  },
  {
   "cell_type": "code",
   "execution_count": 1,
   "metadata": {},
   "outputs": [],
   "source": [
    "# Imports\n",
    "from seededpf.SPF_model import SPF\n",
    "\n",
    "# Example documents\n",
    "documents = [\n",
    "    \"My smartphone's battery life is fantastic, lasts all day!\",\n",
    "    \"The camera on my phone is incredible, takes crystal-clear photos.\",\n",
    "    \"Love the smooth performance, but it overheats with heavy apps.\",\n",
    "    \"This phone charges super fast, very convenient.\",\n",
    "    \"The display is bright and vibrant, but scratches easily.\",\n",
    "    \"Great phone, but the speaker volume is too low.\",\n",
    "    \"My phone lags sometimes, but overall it's decent.\",\n",
    "    \"Face unlock works instantly, super happy with it!\",\n",
    "    \"Wish my phone had expandable storage, but still a great buy.\",\n",
    "    \"The new update slowed my phone down, very frustrating.\",\n",
    "    \"My laptop is super fast, perfect for multitasking.\",\n",
    "    \"Love my PC’s performance, but the fan noise is annoying.\",\n",
    "    \"This computer runs all my programs smoothly, no complaints!\",\n",
    "    \"The keyboard feels great, but the battery drains fast.\",\n",
    "    \"Amazing display, perfect for video editing!\",\n",
    "    \"My laptop is lightweight and easy to carry everywhere.\",\n",
    "    \"Upgraded my PC and it boots in seconds!\",\n",
    "    \"Great for gaming, but gets hot after long sessions.\",\n",
    "    \"My computer sometimes freezes, but a restart fixes it.\",\n",
    "    \"Best laptop I’ve owned, powerful and reliable!\"\n",
    "]\n",
    "\n",
    "# Define topic-specific seed words\n",
    "smartphone = {\"smartphone\", \"iphone\", \"phone\", \"touch\", \"app\"}\n",
    "pc = {\"laptop\", \"keyboard\", \"desktop\", \"pc\"}\n",
    "\n",
    "keywords = {\"smartphone\": smartphone, \"pc\": pc}"
   ]
  },
  {
   "cell_type": "markdown",
   "metadata": {},
   "source": [
    "## Run the SPF topic model\n",
    "\n",
    "Fitting the SPF topic model is straightforward:\n",
    "1. `SPF()`: Initialize the model.\n",
    "2. `.read_docs()`: Read documents and setup the model.\n",
    "3. `.model_train()`: Trains the model."
   ]
  },
  {
   "cell_type": "code",
   "execution_count": 2,
   "metadata": {},
   "outputs": [],
   "source": [
    "# Define a custom tokenizer if needed\n",
    "from sklearn.feature_extraction.text import CountVectorizer\n",
    "\n",
    "cv = CountVectorizer(stop_words=\"english\", min_df = 0)"
   ]
  },
  {
   "cell_type": "code",
   "execution_count": 3,
   "metadata": {},
   "outputs": [
    {
     "name": "stdout",
     "output_type": "stream",
     "text": [
      "Seeded Poisson Factorization (seededpf) model initialized with 2 keyword topics and 0 residual topics.\n"
     ]
    }
   ],
   "source": [
    "# Initialize SPF\n",
    "spf = SPF(keywords = keywords, residual_topics = 0)\n",
    "print(spf)"
   ]
  },
  {
   "cell_type": "code",
   "execution_count": 4,
   "metadata": {},
   "outputs": [
    {
     "name": "stdout",
     "output_type": "stream",
     "text": [
      "NOTE: The seed word 'touch' defined for topic 'smartphone' is not in the vocabulary. Keyword dictionary will be pruned.\n",
      "NOTE: The seed word 'iphone' defined for topic 'smartphone' is not in the vocabulary. Keyword dictionary will be pruned.\n",
      "NOTE: The seed word 'app' defined for topic 'smartphone' is not in the vocabulary. Keyword dictionary will be pruned.\n",
      "NOTE: The seed word 'desktop' defined for topic 'pc' is not in the vocabulary. Keyword dictionary will be pruned.\n",
      "DTM created with: 20 documents and 85 unique words!\n"
     ]
    }
   ],
   "source": [
    "# Read documents\n",
    "spf.read_docs(documents, count_vectorizer=cv)"
   ]
  },
  {
   "cell_type": "code",
   "execution_count": 5,
   "metadata": {},
   "outputs": [
    {
     "data": {
      "text/plain": [
       "{'smartphone': {'phone', 'smartphone'}, 'pc': {'keyboard', 'laptop', 'pc'}}"
      ]
     },
     "execution_count": 5,
     "metadata": {},
     "output_type": "execute_result"
    }
   ],
   "source": [
    "spf.keywords # Note that the provided keywords get pruned if they do not appear in the vocabulary"
   ]
  },
  {
   "cell_type": "code",
   "execution_count": 6,
   "metadata": {},
   "outputs": [
    {
     "name": "stdout",
     "output_type": "stream",
     "text": [
      "WARNING:tensorflow:From c:\\Users\\Bernd\\anaconda3\\envs\\TBIP_colab_8\\lib\\site-packages\\tensorflow_probability\\python\\distributions\\distribution.py:345: calling Poisson.__init__ (from tensorflow_probability.python.distributions.poisson) with interpolate_nondiscrete is deprecated and will be removed after 2021-02-01.\n",
      "Instructions for updating:\n",
      "The `interpolate_nondiscrete` flag is deprecated; instead use `force_probs_to_zero_outside_support` (with the opposite sense).\n",
      "EPOCH: 0 -- Total loss: 721009.1 -- Reconstruction loss: -719838.9 -- Prior loss: -721854.3 -- Entropy loss: -845.2\n",
      "EPOCH: 1 -- Total loss: 622454.1 -- Reconstruction loss: -621375.1 -- Prior loss: -623287.6 -- Entropy loss: -833.5\n",
      "EPOCH: 2 -- Total loss: 377447.9 -- Reconstruction loss: -376564.0 -- Prior loss: -378237.3 -- Entropy loss: -789.4\n",
      "EPOCH: 3 -- Total loss: 358501.9 -- Reconstruction loss: -357774.3 -- Prior loss: -359266.0 -- Entropy loss: -764.1\n",
      "EPOCH: 4 -- Total loss: 236379.1 -- Reconstruction loss: -235748.5 -- Prior loss: -237108.0 -- Entropy loss: -728.9\n",
      "EPOCH: 5 -- Total loss: 230360.1 -- Reconstruction loss: -229906.5 -- Prior loss: -231034.5 -- Entropy loss: -674.4\n",
      "EPOCH: 6 -- Total loss: 130269.1 -- Reconstruction loss: -129812.8 -- Prior loss: -130936.8 -- Entropy loss: -667.7\n",
      "EPOCH: 7 -- Total loss: 179721.6 -- Reconstruction loss: -179262.5 -- Prior loss: -180400.7 -- Entropy loss: -679.1\n",
      "EPOCH: 8 -- Total loss: 69036.1 -- Reconstruction loss: -68717.5 -- Prior loss: -69641.0 -- Entropy loss: -604.9\n",
      "EPOCH: 9 -- Total loss: 45473.0 -- Reconstruction loss: -45213.5 -- Prior loss: -46035.3 -- Entropy loss: -562.3\n",
      "EPOCH: 10 -- Total loss: 54394.5 -- Reconstruction loss: -54149.8 -- Prior loss: -54950.8 -- Entropy loss: -556.3\n",
      "EPOCH: 11 -- Total loss: 47554.4 -- Reconstruction loss: -47325.7 -- Prior loss: -48089.2 -- Entropy loss: -534.8\n",
      "EPOCH: 12 -- Total loss: 48331.4 -- Reconstruction loss: -48154.5 -- Prior loss: -48831.2 -- Entropy loss: -499.8\n",
      "EPOCH: 13 -- Total loss: 33483.8 -- Reconstruction loss: -33335.9 -- Prior loss: -33966.2 -- Entropy loss: -482.4\n",
      "EPOCH: 14 -- Total loss: 23850.3 -- Reconstruction loss: -23672.2 -- Prior loss: -24335.3 -- Entropy loss: -485.0\n",
      "EPOCH: 15 -- Total loss: 24736.7 -- Reconstruction loss: -24634.1 -- Prior loss: -25155.4 -- Entropy loss: -418.7\n",
      "EPOCH: 16 -- Total loss: 30965.2 -- Reconstruction loss: -30836.1 -- Prior loss: -31364.4 -- Entropy loss: -399.3\n",
      "EPOCH: 17 -- Total loss: 28181.5 -- Reconstruction loss: -28081.3 -- Prior loss: -28572.2 -- Entropy loss: -390.7\n",
      "EPOCH: 18 -- Total loss: 23460.0 -- Reconstruction loss: -23345.3 -- Prior loss: -23884.3 -- Entropy loss: -424.3\n",
      "EPOCH: 19 -- Total loss: 14074.1 -- Reconstruction loss: -13995.7 -- Prior loss: -14441.8 -- Entropy loss: -367.7\n",
      "EPOCH: 20 -- Total loss: 13909.4 -- Reconstruction loss: -13847.5 -- Prior loss: -14221.0 -- Entropy loss: -311.6\n",
      "EPOCH: 21 -- Total loss: 17918.4 -- Reconstruction loss: -17809.4 -- Prior loss: -18277.4 -- Entropy loss: -359.0\n",
      "EPOCH: 22 -- Total loss: 13695.5 -- Reconstruction loss: -13629.8 -- Prior loss: -14018.0 -- Entropy loss: -322.5\n",
      "EPOCH: 23 -- Total loss: 12852.1 -- Reconstruction loss: -12789.2 -- Prior loss: -13151.3 -- Entropy loss: -299.2\n",
      "EPOCH: 24 -- Total loss: 10417.4 -- Reconstruction loss: -10341.5 -- Prior loss: -10712.0 -- Entropy loss: -294.6\n",
      "EPOCH: 25 -- Total loss: 22086.3 -- Reconstruction loss: -22039.5 -- Prior loss: -22370.8 -- Entropy loss: -284.4\n",
      "EPOCH: 26 -- Total loss: 8404.6 -- Reconstruction loss: -8371.6 -- Prior loss: -8588.3 -- Entropy loss: -183.7\n",
      "EPOCH: 27 -- Total loss: 11331.1 -- Reconstruction loss: -11278.9 -- Prior loss: -11602.9 -- Entropy loss: -271.7\n",
      "EPOCH: 28 -- Total loss: 8810.9 -- Reconstruction loss: -8773.0 -- Prior loss: -8996.2 -- Entropy loss: -185.2\n",
      "EPOCH: 29 -- Total loss: 6789.7 -- Reconstruction loss: -6741.5 -- Prior loss: -6978.9 -- Entropy loss: -189.2\n",
      "EPOCH: 30 -- Total loss: 6913.1 -- Reconstruction loss: -6867.3 -- Prior loss: -7051.4 -- Entropy loss: -138.3\n",
      "EPOCH: 31 -- Total loss: 11774.7 -- Reconstruction loss: -11730.1 -- Prior loss: -11977.8 -- Entropy loss: -203.1\n",
      "EPOCH: 32 -- Total loss: 8288.3 -- Reconstruction loss: -8246.0 -- Prior loss: -8436.1 -- Entropy loss: -147.8\n",
      "EPOCH: 33 -- Total loss: 9415.2 -- Reconstruction loss: -9386.4 -- Prior loss: -9602.8 -- Entropy loss: -187.6\n",
      "EPOCH: 34 -- Total loss: 8087.9 -- Reconstruction loss: -8041.2 -- Prior loss: -8300.5 -- Entropy loss: -212.6\n",
      "EPOCH: 35 -- Total loss: 6160.5 -- Reconstruction loss: -6135.3 -- Prior loss: -6331.0 -- Entropy loss: -170.5\n",
      "EPOCH: 36 -- Total loss: 4964.9 -- Reconstruction loss: -4902.9 -- Prior loss: -5193.1 -- Entropy loss: -228.2\n",
      "EPOCH: 37 -- Total loss: 8265.6 -- Reconstruction loss: -8220.0 -- Prior loss: -8408.1 -- Entropy loss: -142.4\n",
      "EPOCH: 38 -- Total loss: 7002.9 -- Reconstruction loss: -6971.4 -- Prior loss: -7180.0 -- Entropy loss: -177.1\n",
      "EPOCH: 39 -- Total loss: 6282.5 -- Reconstruction loss: -6253.7 -- Prior loss: -6459.0 -- Entropy loss: -176.5\n",
      "EPOCH: 40 -- Total loss: 5299.9 -- Reconstruction loss: -5258.5 -- Prior loss: -5462.2 -- Entropy loss: -162.2\n",
      "EPOCH: 41 -- Total loss: 4220.4 -- Reconstruction loss: -4195.4 -- Prior loss: -4354.9 -- Entropy loss: -134.5\n",
      "EPOCH: 42 -- Total loss: 3057.8 -- Reconstruction loss: -3032.4 -- Prior loss: -3124.0 -- Entropy loss: -66.2\n",
      "EPOCH: 43 -- Total loss: 6004.4 -- Reconstruction loss: -5973.1 -- Prior loss: -6136.6 -- Entropy loss: -132.2\n",
      "EPOCH: 44 -- Total loss: 7198.1 -- Reconstruction loss: -7161.9 -- Prior loss: -7295.2 -- Entropy loss: -97.1\n",
      "EPOCH: 45 -- Total loss: 6219.4 -- Reconstruction loss: -6191.7 -- Prior loss: -6296.6 -- Entropy loss: -77.2\n",
      "EPOCH: 46 -- Total loss: 5982.4 -- Reconstruction loss: -5949.7 -- Prior loss: -6122.7 -- Entropy loss: -140.3\n",
      "EPOCH: 47 -- Total loss: 2908.8 -- Reconstruction loss: -2888.0 -- Prior loss: -2938.3 -- Entropy loss: -29.5\n",
      "EPOCH: 48 -- Total loss: 4743.4 -- Reconstruction loss: -4726.4 -- Prior loss: -4755.6 -- Entropy loss: -12.2\n",
      "EPOCH: 49 -- Total loss: 4925.7 -- Reconstruction loss: -4893.9 -- Prior loss: -5018.5 -- Entropy loss: -92.8\n",
      "EPOCH: 50 -- Total loss: 3882.3 -- Reconstruction loss: -3852.4 -- Prior loss: -4016.3 -- Entropy loss: -134.0\n",
      "EPOCH: 51 -- Total loss: 5526.5 -- Reconstruction loss: -5482.5 -- Prior loss: -5593.9 -- Entropy loss: -67.4\n",
      "EPOCH: 52 -- Total loss: 5009.3 -- Reconstruction loss: -4978.5 -- Prior loss: -5071.0 -- Entropy loss: -61.8\n",
      "EPOCH: 53 -- Total loss: 3165.7 -- Reconstruction loss: -3137.8 -- Prior loss: -3162.6 -- Entropy loss: 3.2\n",
      "EPOCH: 54 -- Total loss: 4598.8 -- Reconstruction loss: -4561.5 -- Prior loss: -4741.6 -- Entropy loss: -142.8\n",
      "EPOCH: 55 -- Total loss: 3626.0 -- Reconstruction loss: -3607.3 -- Prior loss: -3642.2 -- Entropy loss: -16.2\n",
      "EPOCH: 56 -- Total loss: 3974.0 -- Reconstruction loss: -3949.0 -- Prior loss: -4005.9 -- Entropy loss: -31.9\n",
      "EPOCH: 57 -- Total loss: 1859.6 -- Reconstruction loss: -1830.3 -- Prior loss: -1913.0 -- Entropy loss: -53.4\n",
      "EPOCH: 58 -- Total loss: 3093.4 -- Reconstruction loss: -3065.6 -- Prior loss: -3122.6 -- Entropy loss: -29.2\n",
      "EPOCH: 59 -- Total loss: 7651.2 -- Reconstruction loss: -7622.4 -- Prior loss: -7786.0 -- Entropy loss: -134.8\n",
      "EPOCH: 60 -- Total loss: 4495.7 -- Reconstruction loss: -4458.6 -- Prior loss: -4558.4 -- Entropy loss: -62.7\n",
      "EPOCH: 61 -- Total loss: 4795.1 -- Reconstruction loss: -4774.0 -- Prior loss: -4849.2 -- Entropy loss: -54.1\n",
      "EPOCH: 62 -- Total loss: 4586.7 -- Reconstruction loss: -4560.9 -- Prior loss: -4646.5 -- Entropy loss: -59.8\n",
      "EPOCH: 63 -- Total loss: 5143.5 -- Reconstruction loss: -5113.0 -- Prior loss: -5181.7 -- Entropy loss: -38.2\n",
      "EPOCH: 64 -- Total loss: 5604.2 -- Reconstruction loss: -5575.0 -- Prior loss: -5592.6 -- Entropy loss: 11.6\n",
      "EPOCH: 65 -- Total loss: 2678.8 -- Reconstruction loss: -2664.3 -- Prior loss: -2611.4 -- Entropy loss: 67.4\n",
      "EPOCH: 66 -- Total loss: 3915.9 -- Reconstruction loss: -3896.1 -- Prior loss: -4023.4 -- Entropy loss: -107.5\n",
      "EPOCH: 67 -- Total loss: 2872.0 -- Reconstruction loss: -2842.7 -- Prior loss: -2947.6 -- Entropy loss: -75.6\n",
      "EPOCH: 68 -- Total loss: 6037.9 -- Reconstruction loss: -6009.4 -- Prior loss: -6114.0 -- Entropy loss: -76.2\n",
      "EPOCH: 69 -- Total loss: 5296.6 -- Reconstruction loss: -5259.7 -- Prior loss: -5383.4 -- Entropy loss: -86.7\n",
      "EPOCH: 70 -- Total loss: 1797.0 -- Reconstruction loss: -1785.8 -- Prior loss: -1799.1 -- Entropy loss: -2.1\n",
      "EPOCH: 71 -- Total loss: 3213.7 -- Reconstruction loss: -3192.0 -- Prior loss: -3234.0 -- Entropy loss: -20.2\n",
      "EPOCH: 72 -- Total loss: 4824.7 -- Reconstruction loss: -4789.7 -- Prior loss: -4930.9 -- Entropy loss: -106.2\n",
      "EPOCH: 73 -- Total loss: 4887.2 -- Reconstruction loss: -4865.1 -- Prior loss: -4931.0 -- Entropy loss: -43.8\n",
      "EPOCH: 74 -- Total loss: 2918.6 -- Reconstruction loss: -2889.0 -- Prior loss: -2921.8 -- Entropy loss: -3.1\n",
      "EPOCH: 75 -- Total loss: 3898.1 -- Reconstruction loss: -3872.3 -- Prior loss: -3890.9 -- Entropy loss: 7.2\n",
      "EPOCH: 76 -- Total loss: 4057.8 -- Reconstruction loss: -4033.8 -- Prior loss: -4056.1 -- Entropy loss: 1.7\n",
      "EPOCH: 77 -- Total loss: 3628.4 -- Reconstruction loss: -3609.9 -- Prior loss: -3675.6 -- Entropy loss: -47.2\n",
      "EPOCH: 78 -- Total loss: 3313.2 -- Reconstruction loss: -3281.7 -- Prior loss: -3314.0 -- Entropy loss: -0.8\n",
      "EPOCH: 79 -- Total loss: 1653.4 -- Reconstruction loss: -1634.9 -- Prior loss: -1619.9 -- Entropy loss: 33.6\n",
      "EPOCH: 80 -- Total loss: 2994.0 -- Reconstruction loss: -2971.2 -- Prior loss: -2963.2 -- Entropy loss: 30.9\n",
      "EPOCH: 81 -- Total loss: 3222.8 -- Reconstruction loss: -3201.6 -- Prior loss: -3257.5 -- Entropy loss: -34.7\n",
      "EPOCH: 82 -- Total loss: 5194.0 -- Reconstruction loss: -5167.1 -- Prior loss: -5204.4 -- Entropy loss: -10.5\n",
      "EPOCH: 83 -- Total loss: 2778.8 -- Reconstruction loss: -2756.9 -- Prior loss: -2742.8 -- Entropy loss: 36.0\n",
      "EPOCH: 84 -- Total loss: 2519.8 -- Reconstruction loss: -2496.8 -- Prior loss: -2458.8 -- Entropy loss: 61.0\n",
      "EPOCH: 85 -- Total loss: 2686.7 -- Reconstruction loss: -2661.5 -- Prior loss: -2581.8 -- Entropy loss: 104.9\n",
      "EPOCH: 86 -- Total loss: 3856.6 -- Reconstruction loss: -3840.5 -- Prior loss: -3769.5 -- Entropy loss: 87.1\n",
      "EPOCH: 87 -- Total loss: 3471.2 -- Reconstruction loss: -3445.7 -- Prior loss: -3398.5 -- Entropy loss: 72.7\n",
      "EPOCH: 88 -- Total loss: 5794.0 -- Reconstruction loss: -5775.4 -- Prior loss: -5771.4 -- Entropy loss: 22.6\n",
      "EPOCH: 89 -- Total loss: 5169.6 -- Reconstruction loss: -5147.4 -- Prior loss: -5192.4 -- Entropy loss: -22.8\n",
      "EPOCH: 90 -- Total loss: 4801.0 -- Reconstruction loss: -4786.3 -- Prior loss: -4853.3 -- Entropy loss: -52.4\n",
      "EPOCH: 91 -- Total loss: 3488.0 -- Reconstruction loss: -3456.5 -- Prior loss: -3405.3 -- Entropy loss: 82.7\n",
      "EPOCH: 92 -- Total loss: 2738.1 -- Reconstruction loss: -2712.2 -- Prior loss: -2663.4 -- Entropy loss: 74.6\n",
      "EPOCH: 93 -- Total loss: 3714.5 -- Reconstruction loss: -3693.2 -- Prior loss: -3732.3 -- Entropy loss: -17.8\n",
      "EPOCH: 94 -- Total loss: 2489.2 -- Reconstruction loss: -2470.1 -- Prior loss: -2483.8 -- Entropy loss: 5.4\n",
      "EPOCH: 95 -- Total loss: 3368.6 -- Reconstruction loss: -3348.3 -- Prior loss: -3348.9 -- Entropy loss: 19.6\n",
      "EPOCH: 96 -- Total loss: 4351.5 -- Reconstruction loss: -4321.9 -- Prior loss: -4227.5 -- Entropy loss: 124.0\n",
      "EPOCH: 97 -- Total loss: 2688.6 -- Reconstruction loss: -2668.5 -- Prior loss: -2670.3 -- Entropy loss: 18.3\n",
      "EPOCH: 98 -- Total loss: 2882.7 -- Reconstruction loss: -2861.2 -- Prior loss: -2805.9 -- Entropy loss: 76.8\n",
      "EPOCH: 99 -- Total loss: 3105.0 -- Reconstruction loss: -3065.3 -- Prior loss: -3059.6 -- Entropy loss: 45.5\n",
      "EPOCH: 100 -- Total loss: 3137.8 -- Reconstruction loss: -3116.2 -- Prior loss: -3128.3 -- Entropy loss: 9.5\n",
      "EPOCH: 101 -- Total loss: 3172.5 -- Reconstruction loss: -3145.8 -- Prior loss: -3155.8 -- Entropy loss: 16.7\n",
      "EPOCH: 102 -- Total loss: 3228.3 -- Reconstruction loss: -3202.1 -- Prior loss: -3153.0 -- Entropy loss: 75.2\n",
      "EPOCH: 103 -- Total loss: 1756.3 -- Reconstruction loss: -1737.3 -- Prior loss: -1666.4 -- Entropy loss: 89.9\n",
      "EPOCH: 104 -- Total loss: 2824.2 -- Reconstruction loss: -2800.4 -- Prior loss: -2795.1 -- Entropy loss: 29.0\n",
      "EPOCH: 105 -- Total loss: 2499.0 -- Reconstruction loss: -2474.9 -- Prior loss: -2406.9 -- Entropy loss: 92.2\n",
      "EPOCH: 106 -- Total loss: 3126.5 -- Reconstruction loss: -3102.8 -- Prior loss: -3037.4 -- Entropy loss: 89.1\n",
      "EPOCH: 107 -- Total loss: 2402.3 -- Reconstruction loss: -2389.8 -- Prior loss: -2376.6 -- Entropy loss: 25.6\n",
      "EPOCH: 108 -- Total loss: 4242.6 -- Reconstruction loss: -4225.9 -- Prior loss: -4268.0 -- Entropy loss: -25.4\n",
      "EPOCH: 109 -- Total loss: 4113.5 -- Reconstruction loss: -4085.9 -- Prior loss: -4015.2 -- Entropy loss: 98.3\n",
      "EPOCH: 110 -- Total loss: 4208.0 -- Reconstruction loss: -4181.8 -- Prior loss: -4162.4 -- Entropy loss: 45.6\n",
      "EPOCH: 111 -- Total loss: 4011.4 -- Reconstruction loss: -3990.8 -- Prior loss: -4079.7 -- Entropy loss: -68.3\n",
      "EPOCH: 112 -- Total loss: 2851.3 -- Reconstruction loss: -2821.6 -- Prior loss: -2818.3 -- Entropy loss: 33.0\n",
      "EPOCH: 113 -- Total loss: 2923.8 -- Reconstruction loss: -2899.1 -- Prior loss: -2849.0 -- Entropy loss: 74.7\n",
      "EPOCH: 114 -- Total loss: 3046.1 -- Reconstruction loss: -3016.0 -- Prior loss: -2923.1 -- Entropy loss: 123.0\n",
      "EPOCH: 115 -- Total loss: 3090.8 -- Reconstruction loss: -3061.7 -- Prior loss: -2988.8 -- Entropy loss: 102.1\n",
      "EPOCH: 116 -- Total loss: 3002.7 -- Reconstruction loss: -2976.6 -- Prior loss: -2891.2 -- Entropy loss: 111.5\n",
      "EPOCH: 117 -- Total loss: 1553.2 -- Reconstruction loss: -1520.2 -- Prior loss: -1459.6 -- Entropy loss: 93.6\n",
      "EPOCH: 118 -- Total loss: 4147.0 -- Reconstruction loss: -4120.4 -- Prior loss: -4169.5 -- Entropy loss: -22.5\n",
      "EPOCH: 119 -- Total loss: 2443.1 -- Reconstruction loss: -2407.1 -- Prior loss: -2244.6 -- Entropy loss: 198.5\n",
      "EPOCH: 120 -- Total loss: 1843.8 -- Reconstruction loss: -1810.4 -- Prior loss: -1639.2 -- Entropy loss: 204.6\n",
      "EPOCH: 121 -- Total loss: 4555.2 -- Reconstruction loss: -4538.0 -- Prior loss: -4460.2 -- Entropy loss: 95.0\n",
      "EPOCH: 122 -- Total loss: 2746.6 -- Reconstruction loss: -2727.7 -- Prior loss: -2679.9 -- Entropy loss: 66.7\n",
      "EPOCH: 123 -- Total loss: 2386.7 -- Reconstruction loss: -2364.3 -- Prior loss: -2312.6 -- Entropy loss: 74.1\n",
      "EPOCH: 124 -- Total loss: 1627.4 -- Reconstruction loss: -1599.2 -- Prior loss: -1580.7 -- Entropy loss: 46.7\n",
      "EPOCH: 125 -- Total loss: 1973.0 -- Reconstruction loss: -1936.9 -- Prior loss: -1849.4 -- Entropy loss: 123.6\n",
      "EPOCH: 126 -- Total loss: 3568.6 -- Reconstruction loss: -3548.3 -- Prior loss: -3543.4 -- Entropy loss: 25.2\n",
      "EPOCH: 127 -- Total loss: 1361.8 -- Reconstruction loss: -1332.6 -- Prior loss: -1161.0 -- Entropy loss: 200.9\n",
      "EPOCH: 128 -- Total loss: 2423.6 -- Reconstruction loss: -2387.9 -- Prior loss: -2246.5 -- Entropy loss: 177.2\n",
      "EPOCH: 129 -- Total loss: 2645.7 -- Reconstruction loss: -2610.8 -- Prior loss: -2429.6 -- Entropy loss: 216.0\n",
      "EPOCH: 130 -- Total loss: 1870.9 -- Reconstruction loss: -1837.4 -- Prior loss: -1656.3 -- Entropy loss: 214.5\n",
      "EPOCH: 131 -- Total loss: 2176.5 -- Reconstruction loss: -2155.6 -- Prior loss: -2122.7 -- Entropy loss: 53.9\n",
      "EPOCH: 132 -- Total loss: 1962.9 -- Reconstruction loss: -1923.4 -- Prior loss: -1764.9 -- Entropy loss: 198.0\n",
      "EPOCH: 133 -- Total loss: 2011.1 -- Reconstruction loss: -1965.8 -- Prior loss: -1751.5 -- Entropy loss: 259.7\n",
      "EPOCH: 134 -- Total loss: 2279.8 -- Reconstruction loss: -2258.3 -- Prior loss: -2220.0 -- Entropy loss: 59.8\n",
      "EPOCH: 135 -- Total loss: 3744.3 -- Reconstruction loss: -3736.1 -- Prior loss: -3714.9 -- Entropy loss: 29.4\n",
      "EPOCH: 136 -- Total loss: 2824.1 -- Reconstruction loss: -2798.9 -- Prior loss: -2653.0 -- Entropy loss: 171.1\n",
      "EPOCH: 137 -- Total loss: 3114.3 -- Reconstruction loss: -3092.9 -- Prior loss: -3061.6 -- Entropy loss: 52.7\n",
      "EPOCH: 138 -- Total loss: 2641.6 -- Reconstruction loss: -2614.9 -- Prior loss: -2568.5 -- Entropy loss: 73.1\n",
      "EPOCH: 139 -- Total loss: 1820.8 -- Reconstruction loss: -1798.1 -- Prior loss: -1717.7 -- Entropy loss: 103.1\n",
      "EPOCH: 140 -- Total loss: 2214.1 -- Reconstruction loss: -2195.8 -- Prior loss: -2189.0 -- Entropy loss: 25.1\n",
      "EPOCH: 141 -- Total loss: 1423.5 -- Reconstruction loss: -1397.9 -- Prior loss: -1211.3 -- Entropy loss: 212.2\n",
      "EPOCH: 142 -- Total loss: 2118.1 -- Reconstruction loss: -2083.1 -- Prior loss: -1925.0 -- Entropy loss: 193.1\n",
      "EPOCH: 143 -- Total loss: 1055.0 -- Reconstruction loss: -1026.0 -- Prior loss: -806.3 -- Entropy loss: 248.8\n",
      "EPOCH: 144 -- Total loss: 1991.3 -- Reconstruction loss: -1964.6 -- Prior loss: -1779.0 -- Entropy loss: 212.3\n",
      "EPOCH: 145 -- Total loss: 1320.9 -- Reconstruction loss: -1291.6 -- Prior loss: -1121.9 -- Entropy loss: 199.0\n",
      "EPOCH: 146 -- Total loss: 2963.7 -- Reconstruction loss: -2940.8 -- Prior loss: -2808.7 -- Entropy loss: 154.9\n",
      "EPOCH: 147 -- Total loss: 1755.5 -- Reconstruction loss: -1732.1 -- Prior loss: -1582.2 -- Entropy loss: 173.3\n",
      "EPOCH: 148 -- Total loss: 2125.1 -- Reconstruction loss: -2088.3 -- Prior loss: -1860.2 -- Entropy loss: 264.9\n",
      "EPOCH: 149 -- Total loss: 2066.9 -- Reconstruction loss: -2048.9 -- Prior loss: -1967.7 -- Entropy loss: 99.2\n"
     ]
    }
   ],
   "source": [
    "# Train the model\n",
    "spf.model_train(lr = 0.1, epochs = 150)"
   ]
  },
  {
   "cell_type": "markdown",
   "metadata": {},
   "source": [
    "## Analyze results from the SPF topic model\n",
    "\n",
    "There are different methods available to analyze the topic model results:\n",
    "- `SPF.plot_model_loss()`: Checks convergence of the negative ELBO.\n",
    "- `SPF.return_topics()`: Returns a tuple (categories, E_theta), with categories being the most probable topic for each document and E_theta being the approximate posterior mean estimates per document and topic.\n",
    "- `SPF.calculate_topic_word_distributions()`: Returns a pandas dataframe containing the approximate topic-term mean intensities.\n",
    "- `SPF.print_topics()`: Returns a dictionary with the highest intensity words per topic.\n",
    "- `SPF.plot_seeded_topic_distribution()`: Plots the variational topic word distribution of all seed words belonging to the topic parameter.\n",
    "- `SPF.plot_word_distribution()`: Shows the fitted variational distribution of q(\\Tilde{\\beta}){topic,word} and q(\\beta^*)_{topic,word}."
   ]
  },
  {
   "cell_type": "code",
   "execution_count": 7,
   "metadata": {},
   "outputs": [
    {
     "data": {
      "image/png": "[encoded data removed]",
      "text/plain": [
       "<Figure size 1200x700 with 1 Axes>"
      ]
     },
     "metadata": {},
     "output_type": "display_data"
    }
   ],
   "source": [
    "p1, _ = spf.plot_model_loss()"
   ]
  },
  {
   "cell_type": "code",
   "execution_count": 8,
   "metadata": {},
   "outputs": [
    {
     "name": "stdout",
     "output_type": "stream",
     "text": [
      "['smartphone', 'smartphone', 'smartphone', 'smartphone', 'pc', 'smartphone', 'pc', 'smartphone', 'pc', 'smartphone', 'pc', 'pc', 'pc', 'smartphone', 'smartphone', 'pc', 'smartphone', 'pc', 'smartphone', 'pc']\n"
     ]
    }
   ],
   "source": [
    "# Return the most probable topics per document\n",
    "topic_estimates, _ = spf.return_topics()\n",
    "print(topic_estimates)"
   ]
  },
  {
   "cell_type": "markdown",
   "metadata": {},
   "source": []
  },
  {
   "cell_type": "code",
   "execution_count": 9,
   "metadata": {},
   "outputs": [
    {
     "data": {
      "text/html": [
       "<div>\n",
       "<style scoped>\n",
       "    .dataframe tbody tr th:only-of-type {\n",
       "        vertical-align: middle;\n",
       "    }\n",
       "\n",
       "    .dataframe tbody tr th {\n",
       "        vertical-align: top;\n",
       "    }\n",
       "\n",
       "    .dataframe thead th {\n",
       "        text-align: right;\n",
       "    }\n",
       "</style>\n",
       "<table border=\"1\" class=\"dataframe\">\n",
       "  <thead>\n",
       "    <tr style=\"text-align: right;\">\n",
       "      <th></th>\n",
       "      <th>smartphone</th>\n",
       "      <th>pc</th>\n",
       "    </tr>\n",
       "  </thead>\n",
       "  <tbody>\n",
       "    <tr>\n",
       "      <th>life</th>\n",
       "      <td>2.663759</td>\n",
       "      <td>0.876072</td>\n",
       "    </tr>\n",
       "    <tr>\n",
       "      <th>slowed</th>\n",
       "      <td>2.659182</td>\n",
       "      <td>1.362981</td>\n",
       "    </tr>\n",
       "    <tr>\n",
       "      <th>battery</th>\n",
       "      <td>2.555622</td>\n",
       "      <td>0.832148</td>\n",
       "    </tr>\n",
       "    <tr>\n",
       "      <th>lightweight</th>\n",
       "      <td>2.347131</td>\n",
       "      <td>1.373082</td>\n",
       "    </tr>\n",
       "    <tr>\n",
       "      <th>reliable</th>\n",
       "      <td>2.256293</td>\n",
       "      <td>1.528293</td>\n",
       "    </tr>\n",
       "    <tr>\n",
       "      <th>...</th>\n",
       "      <td>...</td>\n",
       "      <td>...</td>\n",
       "    </tr>\n",
       "    <tr>\n",
       "      <th>scratches</th>\n",
       "      <td>0.768095</td>\n",
       "      <td>0.963744</td>\n",
       "    </tr>\n",
       "    <tr>\n",
       "      <th>ve</th>\n",
       "      <td>0.734958</td>\n",
       "      <td>0.964477</td>\n",
       "    </tr>\n",
       "    <tr>\n",
       "      <th>feels</th>\n",
       "      <td>0.695467</td>\n",
       "      <td>1.295076</td>\n",
       "    </tr>\n",
       "    <tr>\n",
       "      <th>multitasking</th>\n",
       "      <td>0.532284</td>\n",
       "      <td>1.092399</td>\n",
       "    </tr>\n",
       "    <tr>\n",
       "      <th>wish</th>\n",
       "      <td>0.519703</td>\n",
       "      <td>0.901174</td>\n",
       "    </tr>\n",
       "  </tbody>\n",
       "</table>\n",
       "<p>85 rows × 2 columns</p>\n",
       "</div>"
      ],
      "text/plain": [
       "              smartphone        pc\n",
       "life            2.663759  0.876072\n",
       "slowed          2.659182  1.362981\n",
       "battery         2.555622  0.832148\n",
       "lightweight     2.347131  1.373082\n",
       "reliable        2.256293  1.528293\n",
       "...                  ...       ...\n",
       "scratches       0.768095  0.963744\n",
       "ve              0.734958  0.964477\n",
       "feels           0.695467  1.295076\n",
       "multitasking    0.532284  1.092399\n",
       "wish            0.519703  0.901174\n",
       "\n",
       "[85 rows x 2 columns]"
      ]
     },
     "execution_count": 9,
     "metadata": {},
     "output_type": "execute_result"
    }
   ],
   "source": [
    "# Show the topic-term intensities\n",
    "betas = spf.calculate_topic_word_distributions()\n",
    "betas.sort_values(by=\"smartphone\", ascending = False)"
   ]
  },
  {
   "cell_type": "code",
   "execution_count": 10,
   "metadata": {},
   "outputs": [
    {
     "data": {
      "text/plain": [
       "{'smartphone': ['life',\n",
       "  'slowed',\n",
       "  'battery',\n",
       "  'lightweight',\n",
       "  'reliable',\n",
       "  'boots',\n",
       "  'keyboard',\n",
       "  'easily',\n",
       "  'heavy',\n",
       "  'fast',\n",
       "  'incredible',\n",
       "  'phone',\n",
       "  'computer',\n",
       "  'great',\n",
       "  'gaming',\n",
       "  'carry',\n",
       "  'best',\n",
       "  'crystal',\n",
       "  'speaker',\n",
       "  'editing'],\n",
       " 'pc': ['pc',\n",
       "  'reliable',\n",
       "  'owned',\n",
       "  'phone',\n",
       "  'hot',\n",
       "  'fan',\n",
       "  'sessions',\n",
       "  'gaming',\n",
       "  'lags',\n",
       "  'lightweight',\n",
       "  'overheats',\n",
       "  'slowed',\n",
       "  'fantastic',\n",
       "  'speaker',\n",
       "  'low',\n",
       "  'feels',\n",
       "  'easily',\n",
       "  'complaints',\n",
       "  'crystal',\n",
       "  'incredible']}"
      ]
     },
     "execution_count": 10,
     "metadata": {},
     "output_type": "execute_result"
    }
   ],
   "source": [
    "# Return the most relevant words to each topic\n",
    "spf.print_topics(20)"
   ]
  }
 ],
 "metadata": {
  "kernelspec": {
   "display_name": "TBIP_colab_8",
   "language": "python",
   "name": "python3"
  },
  "language_info": {
   "codemirror_mode": {
    "name": "ipython",
    "version": 3
   },
   "file_extension": ".py",
   "mimetype": "text/x-python",
   "name": "python",
   "nbconvert_exporter": "python",
   "pygments_lexer": "ipython3",
   "version": "3.9.16"
  }
 },
 "nbformat": 4,
 "nbformat_minor": 2
}
