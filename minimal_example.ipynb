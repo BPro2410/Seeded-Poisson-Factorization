{
 "cells": [
  {
   "cell_type": "markdown",
   "metadata": {},
   "source": [
    "# Seeded Poisson Factorization (SPF) example notebook\n",
    "\n",
    "This notebook shows a minimal example of the SPF topic model."
   ]
  },
  {
   "cell_type": "markdown",
   "metadata": {},
   "source": [
    "## Preliminaries"
   ]
  },
  {
   "cell_type": "code",
   "execution_count": null,
   "metadata": {},
   "outputs": [],
   "source": [
    "# Imports\n",
    "from seededPF.SPF_model import SPF\n",
    "\n",
    "# Example documents\n",
    "documents = [\n",
    "    \"My smartphone's battery life is fantastic, lasts all day!\",\n",
    "    \"The camera on my phone is incredible, takes crystal-clear photos.\",\n",
    "    \"Love the smooth performance, but it overheats with heavy apps.\",\n",
    "    \"This phone charges super fast, very convenient.\",\n",
    "    \"The display is bright and vibrant, but scratches easily.\",\n",
    "    \"Great phone, but the speaker volume is too low.\",\n",
    "    \"My phone lags sometimes, but overall it's decent.\",\n",
    "    \"Face unlock works instantly, super happy with it!\",\n",
    "    \"Wish my phone had expandable storage, but still a great buy.\",\n",
    "    \"The new update slowed my phone down, very frustrating.\",\n",
    "    \"My laptop is super fast, perfect for multitasking.\",\n",
    "    \"Love my PC’s performance, but the fan noise is annoying.\",\n",
    "    \"This computer runs all my programs smoothly, no complaints!\",\n",
    "    \"The keyboard feels great, but the battery drains fast.\",\n",
    "    \"Amazing display, perfect for video editing!\",\n",
    "    \"My laptop is lightweight and easy to carry everywhere.\",\n",
    "    \"Upgraded my PC and it boots in seconds!\",\n",
    "    \"Great for gaming, but gets hot after long sessions.\",\n",
    "    \"My computer sometimes freezes, but a restart fixes it.\",\n",
    "    \"Best laptop I’ve owned, powerful and reliable!\"\n",
    "]\n",
    "\n",
    "# Define topic-specific seed words\n",
    "smartphone = {\"smartphone\", \"iphone\", \"phone\", \"touch\", \"app\"}\n",
    "pc = {\"laptop\", \"keyboard\", \"desktop\", \"pc\"}\n",
    "\n",
    "keywords = {\"smartphone\": smartphone, \"pc\": pc}"
   ]
  },
  {
   "cell_type": "markdown",
   "metadata": {},
   "source": [
    "## Run the SPF topic model\n",
    "\n",
    "Fitting the SPF topic model is straightforward:\n",
    "1. `SPF()`: Initialize the model.\n",
    "2. `.read_docs()`: Read documents and setup the model.\n",
    "3. `.model_train()`: Trains the model."
   ]
  },
  {
   "cell_type": "code",
   "execution_count": null,
   "metadata": {},
   "outputs": [],
   "source": [
    "# Define a custom tokenizer if needed\n",
    "from sklearn.feature_extraction.text import CountVectorizer\n",
    "\n",
    "cv = CountVectorizer(stop_words=\"english\", min_df = 0)"
   ]
  },
  {
   "cell_type": "code",
   "execution_count": null,
   "metadata": {},
   "outputs": [
    {
     "name": "stdout",
     "output_type": "stream",
     "text": [
      "Seeded Poisson Factorization (SPF) model initialized with 2 keyword topics and 0 residual topics.\n"
     ]
    }
   ],
   "source": [
    "# Initialize SPF\n",
    "spf = SPF(keywords = keywords, residual_topics = 0)\n",
    "print(spf)"
   ]
  },
  {
   "cell_type": "code",
   "execution_count": 12,
   "metadata": {},
   "outputs": [
    {
     "name": "stdout",
     "output_type": "stream",
     "text": [
      "NOTE: Keyword: app from topic smartphone is not in the vocabulary. Keyword dictionary will be pruned.\n",
      "NOTE: Keyword: touch from topic smartphone is not in the vocabulary. Keyword dictionary will be pruned.\n",
      "NOTE: Keyword: iphone from topic smartphone is not in the vocabulary. Keyword dictionary will be pruned.\n",
      "NOTE: Keyword: desktop from topic pc is not in the vocabulary. Keyword dictionary will be pruned.\n",
      "DTM created with: 20 documents and 85 unique words!\n"
     ]
    }
   ],
   "source": [
    "# Read documents\n",
    "spf.read_docs(documents, count_vectorizer=cv)"
   ]
  },
  {
   "cell_type": "code",
   "execution_count": null,
   "metadata": {},
   "outputs": [
    {
     "data": {
      "text/plain": [
       "{'smartphone': {'phone', 'smartphone'}, 'pc': {'keyboard', 'laptop', 'pc'}}"
      ]
     },
     "execution_count": 13,
     "metadata": {},
     "output_type": "execute_result"
    }
   ],
   "source": [
    "spf.keywords # Note that the provided keywords get pruned if they do not appear in the vocabulary"
   ]
  },
  {
   "cell_type": "code",
   "execution_count": null,
   "metadata": {},
   "outputs": [
    {
     "name": "stdout",
     "output_type": "stream",
     "text": [
      "EPOCH: 0 -- Total loss: 968386.0 -- Reconstruction loss: -967224.5 -- Prior loss: -969244.1 -- Entropy loss: -858.1\n",
      "EPOCH: 1 -- Total loss: 454668.0 -- Reconstruction loss: -453642.4 -- Prior loss: -455490.3 -- Entropy loss: -822.3\n",
      "EPOCH: 2 -- Total loss: 428144.4 -- Reconstruction loss: -427274.8 -- Prior loss: -428936.2 -- Entropy loss: -791.8\n",
      "EPOCH: 3 -- Total loss: 293759.2 -- Reconstruction loss: -293096.5 -- Prior loss: -294502.3 -- Entropy loss: -743.1\n",
      "EPOCH: 4 -- Total loss: 263913.4 -- Reconstruction loss: -263303.5 -- Prior loss: -264639.0 -- Entropy loss: -725.6\n",
      "EPOCH: 5 -- Total loss: 178660.6 -- Reconstruction loss: -178172.0 -- Prior loss: -179348.1 -- Entropy loss: -687.5\n",
      "EPOCH: 6 -- Total loss: 167916.7 -- Reconstruction loss: -167420.6 -- Prior loss: -168593.7 -- Entropy loss: -676.9\n",
      "EPOCH: 7 -- Total loss: 184225.8 -- Reconstruction loss: -183796.2 -- Prior loss: -184897.8 -- Entropy loss: -672.0\n",
      "EPOCH: 8 -- Total loss: 117443.3 -- Reconstruction loss: -117078.8 -- Prior loss: -118072.7 -- Entropy loss: -629.4\n",
      "EPOCH: 9 -- Total loss: 95737.3 -- Reconstruction loss: -95415.4 -- Prior loss: -96333.1 -- Entropy loss: -595.7\n",
      "EPOCH: 10 -- Total loss: 99465.4 -- Reconstruction loss: -99123.7 -- Prior loss: -100098.9 -- Entropy loss: -633.6\n",
      "EPOCH: 11 -- Total loss: 64899.1 -- Reconstruction loss: -64677.3 -- Prior loss: -65437.5 -- Entropy loss: -538.3\n",
      "EPOCH: 12 -- Total loss: 61857.5 -- Reconstruction loss: -61607.6 -- Prior loss: -62418.0 -- Entropy loss: -560.5\n",
      "EPOCH: 13 -- Total loss: 46761.3 -- Reconstruction loss: -46562.4 -- Prior loss: -47263.3 -- Entropy loss: -502.0\n",
      "EPOCH: 14 -- Total loss: 53423.9 -- Reconstruction loss: -53255.9 -- Prior loss: -53911.5 -- Entropy loss: -487.6\n",
      "EPOCH: 15 -- Total loss: 29253.6 -- Reconstruction loss: -29123.7 -- Prior loss: -29677.3 -- Entropy loss: -423.7\n",
      "EPOCH: 16 -- Total loss: 28039.9 -- Reconstruction loss: -27961.0 -- Prior loss: -28406.0 -- Entropy loss: -366.1\n",
      "EPOCH: 17 -- Total loss: 25375.1 -- Reconstruction loss: -25261.3 -- Prior loss: -25785.8 -- Entropy loss: -410.8\n",
      "EPOCH: 18 -- Total loss: 17737.5 -- Reconstruction loss: -17669.6 -- Prior loss: -18098.0 -- Entropy loss: -360.5\n",
      "EPOCH: 19 -- Total loss: 21944.7 -- Reconstruction loss: -21861.7 -- Prior loss: -22291.8 -- Entropy loss: -347.1\n",
      "EPOCH: 20 -- Total loss: 14198.3 -- Reconstruction loss: -14125.7 -- Prior loss: -14541.6 -- Entropy loss: -343.3\n",
      "EPOCH: 21 -- Total loss: 13719.8 -- Reconstruction loss: -13636.3 -- Prior loss: -14069.1 -- Entropy loss: -349.3\n",
      "EPOCH: 22 -- Total loss: 20045.2 -- Reconstruction loss: -19983.1 -- Prior loss: -20373.0 -- Entropy loss: -327.8\n",
      "EPOCH: 23 -- Total loss: 14578.6 -- Reconstruction loss: -14493.2 -- Prior loss: -14898.4 -- Entropy loss: -319.7\n",
      "EPOCH: 24 -- Total loss: 20673.0 -- Reconstruction loss: -20600.7 -- Prior loss: -20989.0 -- Entropy loss: -315.9\n",
      "EPOCH: 25 -- Total loss: 9635.1 -- Reconstruction loss: -9573.5 -- Prior loss: -9957.9 -- Entropy loss: -322.7\n",
      "EPOCH: 26 -- Total loss: 6514.1 -- Reconstruction loss: -6471.3 -- Prior loss: -6776.3 -- Entropy loss: -262.2\n",
      "EPOCH: 27 -- Total loss: 8213.0 -- Reconstruction loss: -8175.4 -- Prior loss: -8464.7 -- Entropy loss: -251.7\n",
      "EPOCH: 28 -- Total loss: 6432.3 -- Reconstruction loss: -6386.0 -- Prior loss: -6648.9 -- Entropy loss: -216.5\n",
      "EPOCH: 29 -- Total loss: 8681.2 -- Reconstruction loss: -8621.8 -- Prior loss: -8963.4 -- Entropy loss: -282.2\n",
      "EPOCH: 30 -- Total loss: 11049.4 -- Reconstruction loss: -10988.0 -- Prior loss: -11340.9 -- Entropy loss: -291.5\n",
      "EPOCH: 31 -- Total loss: 10074.3 -- Reconstruction loss: -10030.2 -- Prior loss: -10336.0 -- Entropy loss: -261.7\n",
      "EPOCH: 32 -- Total loss: 7195.5 -- Reconstruction loss: -7145.6 -- Prior loss: -7426.1 -- Entropy loss: -230.6\n",
      "EPOCH: 33 -- Total loss: 5609.4 -- Reconstruction loss: -5575.6 -- Prior loss: -5755.8 -- Entropy loss: -146.4\n",
      "EPOCH: 34 -- Total loss: 5095.7 -- Reconstruction loss: -5061.5 -- Prior loss: -5259.6 -- Entropy loss: -163.9\n",
      "EPOCH: 35 -- Total loss: 8745.3 -- Reconstruction loss: -8718.6 -- Prior loss: -8932.4 -- Entropy loss: -187.1\n",
      "EPOCH: 36 -- Total loss: 6003.3 -- Reconstruction loss: -5972.1 -- Prior loss: -6183.4 -- Entropy loss: -180.2\n",
      "EPOCH: 37 -- Total loss: 5497.7 -- Reconstruction loss: -5470.0 -- Prior loss: -5641.4 -- Entropy loss: -143.7\n",
      "EPOCH: 38 -- Total loss: 8996.6 -- Reconstruction loss: -8939.9 -- Prior loss: -9138.5 -- Entropy loss: -142.0\n",
      "EPOCH: 39 -- Total loss: 7256.4 -- Reconstruction loss: -7231.2 -- Prior loss: -7397.3 -- Entropy loss: -140.9\n",
      "EPOCH: 40 -- Total loss: 4344.1 -- Reconstruction loss: -4322.3 -- Prior loss: -4412.0 -- Entropy loss: -68.0\n",
      "EPOCH: 41 -- Total loss: 6854.3 -- Reconstruction loss: -6809.6 -- Prior loss: -6985.2 -- Entropy loss: -130.9\n",
      "EPOCH: 42 -- Total loss: 5555.6 -- Reconstruction loss: -5534.4 -- Prior loss: -5662.2 -- Entropy loss: -106.7\n",
      "EPOCH: 43 -- Total loss: 4694.4 -- Reconstruction loss: -4669.9 -- Prior loss: -4781.9 -- Entropy loss: -87.5\n",
      "EPOCH: 44 -- Total loss: 5352.6 -- Reconstruction loss: -5324.4 -- Prior loss: -5475.6 -- Entropy loss: -123.0\n",
      "EPOCH: 45 -- Total loss: 4975.0 -- Reconstruction loss: -4944.2 -- Prior loss: -5048.1 -- Entropy loss: -73.0\n",
      "EPOCH: 46 -- Total loss: 4127.2 -- Reconstruction loss: -4101.0 -- Prior loss: -4198.9 -- Entropy loss: -71.7\n",
      "EPOCH: 47 -- Total loss: 5693.5 -- Reconstruction loss: -5667.5 -- Prior loss: -5818.4 -- Entropy loss: -124.9\n",
      "EPOCH: 48 -- Total loss: 5668.3 -- Reconstruction loss: -5635.0 -- Prior loss: -5766.1 -- Entropy loss: -97.8\n",
      "EPOCH: 49 -- Total loss: 3467.0 -- Reconstruction loss: -3448.3 -- Prior loss: -3538.4 -- Entropy loss: -71.4\n",
      "EPOCH: 50 -- Total loss: 4516.6 -- Reconstruction loss: -4495.1 -- Prior loss: -4634.5 -- Entropy loss: -118.0\n",
      "EPOCH: 51 -- Total loss: 2010.7 -- Reconstruction loss: -1982.7 -- Prior loss: -1997.4 -- Entropy loss: 13.2\n",
      "EPOCH: 52 -- Total loss: 3092.7 -- Reconstruction loss: -3080.2 -- Prior loss: -3133.0 -- Entropy loss: -40.3\n",
      "EPOCH: 53 -- Total loss: 4223.5 -- Reconstruction loss: -4214.9 -- Prior loss: -4213.8 -- Entropy loss: 9.7\n",
      "EPOCH: 54 -- Total loss: 4371.9 -- Reconstruction loss: -4342.4 -- Prior loss: -4449.9 -- Entropy loss: -78.0\n",
      "EPOCH: 55 -- Total loss: 4867.9 -- Reconstruction loss: -4837.4 -- Prior loss: -4922.4 -- Entropy loss: -54.5\n",
      "EPOCH: 56 -- Total loss: 3746.6 -- Reconstruction loss: -3717.3 -- Prior loss: -3785.2 -- Entropy loss: -38.6\n",
      "EPOCH: 57 -- Total loss: 5638.0 -- Reconstruction loss: -5609.9 -- Prior loss: -5719.0 -- Entropy loss: -81.1\n",
      "EPOCH: 58 -- Total loss: 7962.5 -- Reconstruction loss: -7923.9 -- Prior loss: -7987.5 -- Entropy loss: -24.9\n",
      "EPOCH: 59 -- Total loss: 7867.2 -- Reconstruction loss: -7835.3 -- Prior loss: -7990.8 -- Entropy loss: -123.6\n",
      "EPOCH: 60 -- Total loss: 2459.5 -- Reconstruction loss: -2438.7 -- Prior loss: -2464.3 -- Entropy loss: -4.8\n",
      "EPOCH: 61 -- Total loss: 3752.3 -- Reconstruction loss: -3717.0 -- Prior loss: -3758.5 -- Entropy loss: -6.3\n",
      "EPOCH: 62 -- Total loss: 5900.4 -- Reconstruction loss: -5873.3 -- Prior loss: -5950.6 -- Entropy loss: -50.2\n",
      "EPOCH: 63 -- Total loss: 4514.3 -- Reconstruction loss: -4489.7 -- Prior loss: -4517.6 -- Entropy loss: -3.3\n",
      "EPOCH: 64 -- Total loss: 3662.5 -- Reconstruction loss: -3636.4 -- Prior loss: -3681.7 -- Entropy loss: -19.2\n",
      "EPOCH: 65 -- Total loss: 2436.6 -- Reconstruction loss: -2403.6 -- Prior loss: -2381.8 -- Entropy loss: 54.8\n",
      "EPOCH: 66 -- Total loss: 3131.6 -- Reconstruction loss: -3122.6 -- Prior loss: -3166.2 -- Entropy loss: -34.6\n",
      "EPOCH: 67 -- Total loss: 2977.3 -- Reconstruction loss: -2957.6 -- Prior loss: -3014.5 -- Entropy loss: -37.2\n",
      "EPOCH: 68 -- Total loss: 2899.1 -- Reconstruction loss: -2869.7 -- Prior loss: -2878.6 -- Entropy loss: 20.5\n",
      "EPOCH: 69 -- Total loss: 2376.4 -- Reconstruction loss: -2354.8 -- Prior loss: -2301.9 -- Entropy loss: 74.5\n",
      "EPOCH: 70 -- Total loss: 3169.5 -- Reconstruction loss: -3138.1 -- Prior loss: -3189.7 -- Entropy loss: -20.1\n",
      "EPOCH: 71 -- Total loss: 2191.1 -- Reconstruction loss: -2175.9 -- Prior loss: -2169.9 -- Entropy loss: 21.2\n",
      "EPOCH: 72 -- Total loss: 3077.2 -- Reconstruction loss: -3055.0 -- Prior loss: -3108.9 -- Entropy loss: -31.7\n",
      "EPOCH: 73 -- Total loss: 3786.6 -- Reconstruction loss: -3760.7 -- Prior loss: -3747.4 -- Entropy loss: 39.3\n",
      "EPOCH: 74 -- Total loss: 2355.1 -- Reconstruction loss: -2336.7 -- Prior loss: -2272.8 -- Entropy loss: 82.2\n",
      "EPOCH: 75 -- Total loss: 2753.0 -- Reconstruction loss: -2722.2 -- Prior loss: -2805.2 -- Entropy loss: -52.2\n",
      "EPOCH: 76 -- Total loss: 2302.9 -- Reconstruction loss: -2284.5 -- Prior loss: -2257.5 -- Entropy loss: 45.4\n",
      "EPOCH: 77 -- Total loss: 2557.9 -- Reconstruction loss: -2550.4 -- Prior loss: -2617.9 -- Entropy loss: -60.0\n",
      "EPOCH: 78 -- Total loss: 3720.7 -- Reconstruction loss: -3697.2 -- Prior loss: -3747.3 -- Entropy loss: -26.6\n",
      "EPOCH: 79 -- Total loss: 6078.1 -- Reconstruction loss: -6039.9 -- Prior loss: -6044.8 -- Entropy loss: 33.3\n",
      "EPOCH: 80 -- Total loss: 2826.3 -- Reconstruction loss: -2804.1 -- Prior loss: -2891.3 -- Entropy loss: -65.1\n",
      "EPOCH: 81 -- Total loss: 3130.0 -- Reconstruction loss: -3095.1 -- Prior loss: -3191.4 -- Entropy loss: -61.4\n",
      "EPOCH: 82 -- Total loss: 5505.0 -- Reconstruction loss: -5481.1 -- Prior loss: -5483.4 -- Entropy loss: 21.6\n",
      "EPOCH: 83 -- Total loss: 2866.9 -- Reconstruction loss: -2837.2 -- Prior loss: -2796.9 -- Entropy loss: 70.1\n",
      "EPOCH: 84 -- Total loss: 3711.7 -- Reconstruction loss: -3688.2 -- Prior loss: -3710.8 -- Entropy loss: 0.9\n",
      "EPOCH: 85 -- Total loss: 2042.1 -- Reconstruction loss: -2030.4 -- Prior loss: -2045.7 -- Entropy loss: -3.6\n",
      "EPOCH: 86 -- Total loss: 3397.1 -- Reconstruction loss: -3383.9 -- Prior loss: -3361.9 -- Entropy loss: 35.2\n",
      "EPOCH: 87 -- Total loss: 3425.8 -- Reconstruction loss: -3384.5 -- Prior loss: -3426.3 -- Entropy loss: -0.5\n",
      "EPOCH: 88 -- Total loss: 2341.5 -- Reconstruction loss: -2312.0 -- Prior loss: -2312.8 -- Entropy loss: 28.8\n",
      "EPOCH: 89 -- Total loss: 1793.4 -- Reconstruction loss: -1776.1 -- Prior loss: -1783.9 -- Entropy loss: 9.4\n",
      "EPOCH: 90 -- Total loss: 3876.1 -- Reconstruction loss: -3845.9 -- Prior loss: -3830.4 -- Entropy loss: 45.7\n",
      "EPOCH: 91 -- Total loss: 2639.4 -- Reconstruction loss: -2618.9 -- Prior loss: -2563.1 -- Entropy loss: 76.3\n",
      "EPOCH: 92 -- Total loss: 3282.4 -- Reconstruction loss: -3246.9 -- Prior loss: -3294.6 -- Entropy loss: -12.2\n",
      "EPOCH: 93 -- Total loss: 2426.7 -- Reconstruction loss: -2394.9 -- Prior loss: -2450.8 -- Entropy loss: -24.1\n",
      "EPOCH: 94 -- Total loss: 3477.7 -- Reconstruction loss: -3454.7 -- Prior loss: -3468.4 -- Entropy loss: 9.3\n",
      "EPOCH: 95 -- Total loss: 1831.2 -- Reconstruction loss: -1816.5 -- Prior loss: -1757.7 -- Entropy loss: 73.5\n",
      "EPOCH: 96 -- Total loss: 2412.9 -- Reconstruction loss: -2399.3 -- Prior loss: -2505.7 -- Entropy loss: -92.9\n",
      "EPOCH: 97 -- Total loss: 3762.9 -- Reconstruction loss: -3737.7 -- Prior loss: -3754.9 -- Entropy loss: 8.0\n",
      "EPOCH: 98 -- Total loss: 3838.6 -- Reconstruction loss: -3814.1 -- Prior loss: -3741.8 -- Entropy loss: 96.8\n",
      "EPOCH: 99 -- Total loss: 3678.1 -- Reconstruction loss: -3660.1 -- Prior loss: -3710.3 -- Entropy loss: -32.2\n",
      "EPOCH: 100 -- Total loss: 4562.2 -- Reconstruction loss: -4539.4 -- Prior loss: -4593.8 -- Entropy loss: -31.7\n",
      "EPOCH: 101 -- Total loss: 4269.0 -- Reconstruction loss: -4235.3 -- Prior loss: -4219.4 -- Entropy loss: 49.7\n",
      "EPOCH: 102 -- Total loss: 2958.3 -- Reconstruction loss: -2948.4 -- Prior loss: -2912.9 -- Entropy loss: 45.3\n",
      "EPOCH: 103 -- Total loss: 2579.9 -- Reconstruction loss: -2561.0 -- Prior loss: -2558.2 -- Entropy loss: 21.7\n",
      "EPOCH: 104 -- Total loss: 2782.0 -- Reconstruction loss: -2749.8 -- Prior loss: -2698.9 -- Entropy loss: 83.1\n",
      "EPOCH: 105 -- Total loss: 1962.5 -- Reconstruction loss: -1934.9 -- Prior loss: -1819.5 -- Entropy loss: 143.0\n",
      "EPOCH: 106 -- Total loss: 1915.8 -- Reconstruction loss: -1896.5 -- Prior loss: -1900.4 -- Entropy loss: 15.3\n",
      "EPOCH: 107 -- Total loss: 2833.5 -- Reconstruction loss: -2802.1 -- Prior loss: -2677.0 -- Entropy loss: 156.5\n",
      "EPOCH: 108 -- Total loss: 2068.8 -- Reconstruction loss: -2055.0 -- Prior loss: -2038.7 -- Entropy loss: 30.1\n",
      "EPOCH: 109 -- Total loss: 2154.5 -- Reconstruction loss: -2140.2 -- Prior loss: -2081.1 -- Entropy loss: 73.4\n",
      "EPOCH: 110 -- Total loss: 2798.5 -- Reconstruction loss: -2772.3 -- Prior loss: -2770.6 -- Entropy loss: 27.9\n",
      "EPOCH: 111 -- Total loss: 2473.7 -- Reconstruction loss: -2460.7 -- Prior loss: -2402.2 -- Entropy loss: 71.5\n",
      "EPOCH: 112 -- Total loss: 4444.3 -- Reconstruction loss: -4410.2 -- Prior loss: -4326.7 -- Entropy loss: 117.6\n",
      "EPOCH: 113 -- Total loss: 3396.8 -- Reconstruction loss: -3368.0 -- Prior loss: -3316.6 -- Entropy loss: 80.2\n",
      "EPOCH: 114 -- Total loss: 3103.1 -- Reconstruction loss: -3081.2 -- Prior loss: -3098.8 -- Entropy loss: 4.3\n",
      "EPOCH: 115 -- Total loss: 3056.1 -- Reconstruction loss: -3036.3 -- Prior loss: -2993.1 -- Entropy loss: 62.9\n",
      "EPOCH: 116 -- Total loss: 3374.2 -- Reconstruction loss: -3358.2 -- Prior loss: -3362.1 -- Entropy loss: 12.1\n",
      "EPOCH: 117 -- Total loss: 3047.4 -- Reconstruction loss: -3023.5 -- Prior loss: -3018.7 -- Entropy loss: 28.7\n",
      "EPOCH: 118 -- Total loss: 2999.5 -- Reconstruction loss: -2990.1 -- Prior loss: -2956.7 -- Entropy loss: 42.8\n",
      "EPOCH: 119 -- Total loss: 2945.9 -- Reconstruction loss: -2915.5 -- Prior loss: -2804.5 -- Entropy loss: 141.4\n",
      "EPOCH: 120 -- Total loss: 2277.5 -- Reconstruction loss: -2246.0 -- Prior loss: -2129.5 -- Entropy loss: 148.0\n",
      "EPOCH: 121 -- Total loss: 2195.6 -- Reconstruction loss: -2163.5 -- Prior loss: -2218.6 -- Entropy loss: -23.0\n",
      "EPOCH: 122 -- Total loss: 1888.2 -- Reconstruction loss: -1871.4 -- Prior loss: -1809.1 -- Entropy loss: 79.1\n",
      "EPOCH: 123 -- Total loss: 2252.2 -- Reconstruction loss: -2230.2 -- Prior loss: -2255.8 -- Entropy loss: -3.6\n",
      "EPOCH: 124 -- Total loss: 3086.9 -- Reconstruction loss: -3064.4 -- Prior loss: -2994.1 -- Entropy loss: 92.8\n",
      "EPOCH: 125 -- Total loss: 2007.7 -- Reconstruction loss: -1982.4 -- Prior loss: -1907.1 -- Entropy loss: 100.6\n",
      "EPOCH: 126 -- Total loss: 2739.9 -- Reconstruction loss: -2710.3 -- Prior loss: -2638.6 -- Entropy loss: 101.3\n",
      "EPOCH: 127 -- Total loss: 5540.1 -- Reconstruction loss: -5516.9 -- Prior loss: -5514.5 -- Entropy loss: 25.6\n",
      "EPOCH: 128 -- Total loss: 1941.4 -- Reconstruction loss: -1911.2 -- Prior loss: -1891.1 -- Entropy loss: 50.4\n",
      "EPOCH: 129 -- Total loss: 3117.4 -- Reconstruction loss: -3076.9 -- Prior loss: -2965.9 -- Entropy loss: 151.5\n",
      "EPOCH: 130 -- Total loss: 1659.4 -- Reconstruction loss: -1639.5 -- Prior loss: -1591.9 -- Entropy loss: 67.5\n",
      "EPOCH: 131 -- Total loss: 2447.3 -- Reconstruction loss: -2436.9 -- Prior loss: -2390.6 -- Entropy loss: 56.7\n",
      "EPOCH: 132 -- Total loss: 3064.2 -- Reconstruction loss: -3049.9 -- Prior loss: -3009.6 -- Entropy loss: 54.6\n",
      "EPOCH: 133 -- Total loss: 1633.5 -- Reconstruction loss: -1610.8 -- Prior loss: -1431.8 -- Entropy loss: 201.7\n",
      "EPOCH: 134 -- Total loss: 2120.1 -- Reconstruction loss: -2091.1 -- Prior loss: -1978.7 -- Entropy loss: 141.4\n",
      "EPOCH: 135 -- Total loss: 3099.8 -- Reconstruction loss: -3064.8 -- Prior loss: -2987.9 -- Entropy loss: 111.9\n",
      "EPOCH: 136 -- Total loss: 2564.0 -- Reconstruction loss: -2536.5 -- Prior loss: -2465.1 -- Entropy loss: 98.9\n",
      "EPOCH: 137 -- Total loss: 1538.4 -- Reconstruction loss: -1515.5 -- Prior loss: -1398.1 -- Entropy loss: 140.3\n",
      "EPOCH: 138 -- Total loss: 5216.6 -- Reconstruction loss: -5191.2 -- Prior loss: -5241.1 -- Entropy loss: -24.5\n",
      "EPOCH: 139 -- Total loss: 1613.2 -- Reconstruction loss: -1594.3 -- Prior loss: -1520.5 -- Entropy loss: 92.7\n",
      "EPOCH: 140 -- Total loss: 2024.8 -- Reconstruction loss: -2013.0 -- Prior loss: -1964.4 -- Entropy loss: 60.3\n",
      "EPOCH: 141 -- Total loss: 1821.5 -- Reconstruction loss: -1784.6 -- Prior loss: -1715.0 -- Entropy loss: 106.5\n",
      "EPOCH: 142 -- Total loss: 2141.0 -- Reconstruction loss: -2117.3 -- Prior loss: -1988.1 -- Entropy loss: 152.9\n",
      "EPOCH: 143 -- Total loss: 1787.4 -- Reconstruction loss: -1752.9 -- Prior loss: -1623.2 -- Entropy loss: 164.2\n",
      "EPOCH: 144 -- Total loss: 2897.0 -- Reconstruction loss: -2868.4 -- Prior loss: -2741.2 -- Entropy loss: 155.8\n",
      "EPOCH: 145 -- Total loss: 2733.5 -- Reconstruction loss: -2696.2 -- Prior loss: -2565.5 -- Entropy loss: 168.0\n",
      "EPOCH: 146 -- Total loss: 2602.3 -- Reconstruction loss: -2569.9 -- Prior loss: -2420.8 -- Entropy loss: 181.5\n",
      "EPOCH: 147 -- Total loss: 1389.9 -- Reconstruction loss: -1352.1 -- Prior loss: -1234.6 -- Entropy loss: 155.2\n",
      "EPOCH: 148 -- Total loss: 2317.4 -- Reconstruction loss: -2302.7 -- Prior loss: -2195.1 -- Entropy loss: 122.3\n",
      "EPOCH: 149 -- Total loss: 3624.4 -- Reconstruction loss: -3606.9 -- Prior loss: -3542.8 -- Entropy loss: 81.6\n"
     ]
    }
   ],
   "source": [
    "# Train the model\n",
    "spf.model_train(lr = 0.1, epochs = 150)"
   ]
  },
  {
   "cell_type": "markdown",
   "metadata": {},
   "source": [
    "## Analyze results from the SPF topic model\n",
    "\n",
    "There are different methods available to analyze the topic model results:\n",
    "- `SPF.plot_model_loss()`: Checks convergence of the negative ELBO.\n",
    "- `SPF.return_topics()`: Returns a tuple (categories, E_theta), with categories being the most probable topic for each document and E_theta being the approximate posterior mean estimates per document and topic.\n",
    "- `SPF.calculate_topic_word_distributions()`: Returns a pandas dataframe containing the approximate topic-term mean intensities.\n",
    "- `SPF.print_topics()`: Returns a dictionary with the highest intensity words per topic.\n",
    "- `SPF.plot_seeded_topic_distribution()`: Plots the variational topic word distribution of all seed words belonging to the topic parameter.\n",
    "- `SPF.plot_word_distribution()`: Shows the fitted variational distribution of q(\\Tilde{\\beta}){topic,word} and q(\\beta^*)_{topic,word}."
   ]
  },
  {
   "cell_type": "code",
   "execution_count": 15,
   "metadata": {},
   "outputs": [
    {
     "data": {
      "image/png": "[encoded data removed]",
      "text/plain": [
       "<Figure size 1200x700 with 1 Axes>"
      ]
     },
     "metadata": {},
     "output_type": "display_data"
    }
   ],
   "source": [
    "spf.plot_model_loss()"
   ]
  },
  {
   "cell_type": "code",
   "execution_count": null,
   "metadata": {},
   "outputs": [
    {
     "name": "stdout",
     "output_type": "stream",
     "text": [
      "['smartphone', 'smartphone', 'smartphone', 'smartphone', 'smartphone', 'smartphone', 'smartphone', 'pc', 'smartphone', 'smartphone', 'pc', 'pc', 'pc', 'smartphone', 'pc', 'pc', 'smartphone', 'pc', 'pc', 'smartphone']\n"
     ]
    }
   ],
   "source": [
    "# Return the most probable topics per document\n",
    "topic_estimates, _ = spf.return_topics()\n",
    "print(topic_estimates)"
   ]
  },
  {
   "cell_type": "markdown",
   "metadata": {},
   "source": []
  },
  {
   "cell_type": "code",
   "execution_count": null,
   "metadata": {},
   "outputs": [
    {
     "data": {
      "text/html": [
       "<div>\n",
       "<style scoped>\n",
       "    .dataframe tbody tr th:only-of-type {\n",
       "        vertical-align: middle;\n",
       "    }\n",
       "\n",
       "    .dataframe tbody tr th {\n",
       "        vertical-align: top;\n",
       "    }\n",
       "\n",
       "    .dataframe thead th {\n",
       "        text-align: right;\n",
       "    }\n",
       "</style>\n",
       "<table border=\"1\" class=\"dataframe\">\n",
       "  <thead>\n",
       "    <tr style=\"text-align: right;\">\n",
       "      <th></th>\n",
       "      <th>smartphone</th>\n",
       "      <th>pc</th>\n",
       "    </tr>\n",
       "  </thead>\n",
       "  <tbody>\n",
       "    <tr>\n",
       "      <th>update</th>\n",
       "      <td>2.473196</td>\n",
       "      <td>1.757216</td>\n",
       "    </tr>\n",
       "    <tr>\n",
       "      <th>scratches</th>\n",
       "      <td>2.156635</td>\n",
       "      <td>1.345410</td>\n",
       "    </tr>\n",
       "    <tr>\n",
       "      <th>freezes</th>\n",
       "      <td>2.139411</td>\n",
       "      <td>1.226590</td>\n",
       "    </tr>\n",
       "    <tr>\n",
       "      <th>bright</th>\n",
       "      <td>2.102933</td>\n",
       "      <td>0.899475</td>\n",
       "    </tr>\n",
       "    <tr>\n",
       "      <th>phone</th>\n",
       "      <td>1.958131</td>\n",
       "      <td>0.918015</td>\n",
       "    </tr>\n",
       "    <tr>\n",
       "      <th>...</th>\n",
       "      <td>...</td>\n",
       "      <td>...</td>\n",
       "    </tr>\n",
       "    <tr>\n",
       "      <th>complaints</th>\n",
       "      <td>0.699415</td>\n",
       "      <td>1.470299</td>\n",
       "    </tr>\n",
       "    <tr>\n",
       "      <th>overall</th>\n",
       "      <td>0.666871</td>\n",
       "      <td>0.762467</td>\n",
       "    </tr>\n",
       "    <tr>\n",
       "      <th>great</th>\n",
       "      <td>0.642490</td>\n",
       "      <td>0.912157</td>\n",
       "    </tr>\n",
       "    <tr>\n",
       "      <th>easy</th>\n",
       "      <td>0.583315</td>\n",
       "      <td>1.882461</td>\n",
       "    </tr>\n",
       "    <tr>\n",
       "      <th>hot</th>\n",
       "      <td>0.546991</td>\n",
       "      <td>0.923281</td>\n",
       "    </tr>\n",
       "  </tbody>\n",
       "</table>\n",
       "<p>85 rows × 2 columns</p>\n",
       "</div>"
      ],
      "text/plain": [
       "            smartphone        pc\n",
       "update        2.473196  1.757216\n",
       "scratches     2.156635  1.345410\n",
       "freezes       2.139411  1.226590\n",
       "bright        2.102933  0.899475\n",
       "phone         1.958131  0.918015\n",
       "...                ...       ...\n",
       "complaints    0.699415  1.470299\n",
       "overall       0.666871  0.762467\n",
       "great         0.642490  0.912157\n",
       "easy          0.583315  1.882461\n",
       "hot           0.546991  0.923281\n",
       "\n",
       "[85 rows x 2 columns]"
      ]
     },
     "execution_count": 22,
     "metadata": {},
     "output_type": "execute_result"
    }
   ],
   "source": [
    "# Show the topic-term intensities\n",
    "betas = spf.calculate_topic_word_distributions()\n",
    "betas.sort_values(by=\"smartphone\", ascending = False)"
   ]
  },
  {
   "cell_type": "code",
   "execution_count": null,
   "metadata": {},
   "outputs": [
    {
     "data": {
      "text/plain": [
       "{'smartphone': ['update',\n",
       "  'scratches',\n",
       "  'freezes',\n",
       "  'bright',\n",
       "  'phone',\n",
       "  'new',\n",
       "  'vibrant',\n",
       "  'boots',\n",
       "  'charges',\n",
       "  'laptop',\n",
       "  'low',\n",
       "  'drains',\n",
       "  'runs',\n",
       "  'day',\n",
       "  'photos',\n",
       "  'amazing',\n",
       "  'performance',\n",
       "  'expandable',\n",
       "  'display',\n",
       "  'sessions'],\n",
       " 'pc': ['smooth',\n",
       "  'seconds',\n",
       "  'works',\n",
       "  'drains',\n",
       "  'charges',\n",
       "  'fast',\n",
       "  'easy',\n",
       "  'unlock',\n",
       "  'pc',\n",
       "  'lags',\n",
       "  'annoying',\n",
       "  'update',\n",
       "  'multitasking',\n",
       "  'fan',\n",
       "  'programs',\n",
       "  'convenient',\n",
       "  'complaints',\n",
       "  'decent',\n",
       "  'face',\n",
       "  'easily']}"
      ]
     },
     "execution_count": 24,
     "metadata": {},
     "output_type": "execute_result"
    }
   ],
   "source": [
    "# Return the most relevant words to each topic\n",
    "spf.print_topics(20)"
   ]
  }
 ],
 "metadata": {
  "kernelspec": {
   "display_name": "TBIP_colab_8",
   "language": "python",
   "name": "python3"
  },
  "language_info": {
   "codemirror_mode": {
    "name": "ipython",
    "version": 3
   },
   "file_extension": ".py",
   "mimetype": "text/x-python",
   "name": "python",
   "nbconvert_exporter": "python",
   "pygments_lexer": "ipython3",
   "version": "3.9.16"
  }
 },
 "nbformat": 4,
 "nbformat_minor": 2
}
